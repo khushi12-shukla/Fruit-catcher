{
  "nbformat": 4,
  "nbformat_minor": 0,
  "metadata": {
    "colab": {
      "name": "risky numbers",
      "provenance": [],
      "collapsed_sections": [],
      "authorship_tag": "ABX9TyNmtlvqkqhRVjQDuI+6vm0v",
      "include_colab_link": true
    },
    "kernelspec": {
      "name": "python3",
      "display_name": "Python 3"
    },
    "language_info": {
      "name": "python"
    }
  },
  "cells": [
    {
      "cell_type": "markdown",
      "metadata": {
        "id": "view-in-github",
        "colab_type": "text"
      },
      "source": [
        "<a href=\"https://colab.research.google.com/github/khushi12-shukla/Fruit-catcher/blob/main/risky_numbers.ipynb\" target=\"_parent\"><img src=\"https://colab.research.google.com/assets/colab-badge.svg\" alt=\"Open In Colab\"/></a>"
      ]
    },
    {
      "cell_type": "code",
      "execution_count": null,
      "metadata": {
        "colab": {
          "base_uri": "https://localhost:8080/",
          "height": 565
        },
        "id": "3S2a3hmeSyBQ",
        "outputId": "0c324666-2270-42bb-eb66-fd57e1e167c3"
      },
      "outputs": [
        {
          "name": "stdout",
          "output_type": "stream",
          "text": [
            "Please save me I am stuck here with numbers. I am a scientist and had created a machine for capturing people. \n",
            "Due to some technical glich I am stuck here amidst the machinery myself. You are my only hope so please save me.\n",
            "You have to guess a number decided by the operating system of the machine between 1 to 9 within five chances.\n",
            "Don't worry every wrong guess would give you a hint. So, all the best.\n",
            "enter my jackpot number here2\n",
            "your answer is less than the lucky number \n",
            "enter my jackpot number here6\n",
            "your answer is less than the lucky number \n",
            "enter my jackpot number here5\n",
            "your answer is less than the lucky number \n",
            "enter my jackpot number here4\n",
            "your answer is less than the lucky number \n",
            "enter my jackpot number here3\n",
            "your answer is less than the lucky number \n",
            "enter my jackpot number here2\n",
            "your answer is less than the lucky number \n",
            "enter my jackpot number here56132\n",
            "your answer is more than the lucky number\n",
            "enter my jackpot number here\n"
          ]
        },
        {
          "output_type": "error",
          "ename": "ValueError",
          "evalue": "ignored",
          "traceback": [
            "\u001b[0;31m---------------------------------------------------------------------------\u001b[0m",
            "\u001b[0;31mValueError\u001b[0m                                Traceback (most recent call last)",
            "\u001b[0;32m<ipython-input-10-a1dfc2b9affe>\u001b[0m in \u001b[0;36m<module>\u001b[0;34m()\u001b[0m\n\u001b[1;32m      7\u001b[0m \u001b[0mchances\u001b[0m\u001b[0;34m=\u001b[0m\u001b[0;36m0\u001b[0m\u001b[0;34m\u001b[0m\u001b[0;34m\u001b[0m\u001b[0m\n\u001b[1;32m      8\u001b[0m \u001b[0;32mwhile\u001b[0m \u001b[0mchances\u001b[0m\u001b[0;34m<\u001b[0m\u001b[0;36m5\u001b[0m\u001b[0;34m:\u001b[0m\u001b[0;34m\u001b[0m\u001b[0;34m\u001b[0m\u001b[0m\n\u001b[0;32m----> 9\u001b[0;31m   \u001b[0mguess\u001b[0m\u001b[0;34m=\u001b[0m\u001b[0mint\u001b[0m \u001b[0;34m(\u001b[0m\u001b[0minput\u001b[0m\u001b[0;34m(\u001b[0m\u001b[0;34m\"enter my jackpot number here\"\u001b[0m\u001b[0;34m)\u001b[0m\u001b[0;34m)\u001b[0m\u001b[0;34m\u001b[0m\u001b[0;34m\u001b[0m\u001b[0m\n\u001b[0m\u001b[1;32m     10\u001b[0m   \u001b[0;32mif\u001b[0m\u001b[0;34m(\u001b[0m\u001b[0mguess\u001b[0m\u001b[0;34m==\u001b[0m\u001b[0mluckDecider\u001b[0m\u001b[0;34m)\u001b[0m\u001b[0;34m:\u001b[0m\u001b[0;34m\u001b[0m\u001b[0;34m\u001b[0m\u001b[0m\n\u001b[1;32m     11\u001b[0m     \u001b[0mprint\u001b[0m\u001b[0;34m(\u001b[0m\u001b[0;34m\"Wow you are awesome. Thank you for helping me out. I will never forget your favour.I am lucky to have you for my rescue.\"\u001b[0m\u001b[0;34m)\u001b[0m\u001b[0;34m\u001b[0m\u001b[0;34m\u001b[0m\u001b[0m\n",
            "\u001b[0;31mValueError\u001b[0m: invalid literal for int() with base 10: ''"
          ]
        }
      ],
      "source": [
        "import random\n",
        "luckDecider=random.randint(1,9)\n",
        "print(\"Please save me I am stuck here with numbers. I am a scientist and had created a machine for capturing people. \")\n",
        "print(\"Due to some technical glich I am stuck here amidst the machinery myself. You are my only hope so please save me.\")\n",
        "print(\"You have to guess a number decided by the operating system of the machine between 1 to 9 within five chances.\")\n",
        "print(\"Don't worry every wrong guess would give you a hint. So, all the best.\")\n",
        "chances=0\n",
        "while chances<5:\n",
        "  guess=int (input(\"enter my jackpot number here\"))\n",
        "  if(guess==luckDecider):\n",
        "    print(\"Wow you are awesome. Thank you for helping me out. I will never forget your favour.I am lucky to have you for my rescue.\")\n",
        "    break\n",
        "  elif guess < luckDecider:\n",
        "    print(\"your answer is less than the lucky number \")\n",
        "  else:\n",
        "    print(\"your answer is more than the lucky number\")\n",
        "    chances=chances+1\n",
        "if not chances<5:\n",
        "  print(\"I know that you tried your best but you couldn't guess the correct number. Don't worry about me I know that you will rescue me some day\")\n",
        "  "
      ]
    },
    {
      "cell_type": "code",
      "source": [
        ""
      ],
      "metadata": {
        "id": "rfIxbi-V60KW"
      },
      "execution_count": null,
      "outputs": []
    }
  ]
}